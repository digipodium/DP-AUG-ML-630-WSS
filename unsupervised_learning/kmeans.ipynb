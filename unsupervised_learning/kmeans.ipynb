{
 "cells": [
  {
   "cell_type": "code",
   "execution_count": 9,
   "metadata": {},
   "outputs": [],
   "source": [
    "import numpy as np\n",
    "import pandas as pd\n",
    "import plotly.express as px\n",
    "import matplotlib.pyplot as plt\n",
    "from seaborn import load_dataset\n",
    "from sklearn.decomposition import KernelPCA"
   ]
  },
  {
   "cell_type": "code",
   "execution_count": 4,
   "metadata": {},
   "outputs": [
    {
     "data": {
      "text/html": [
       "<div>\n",
       "<style scoped>\n",
       "    .dataframe tbody tr th:only-of-type {\n",
       "        vertical-align: middle;\n",
       "    }\n",
       "\n",
       "    .dataframe tbody tr th {\n",
       "        vertical-align: top;\n",
       "    }\n",
       "\n",
       "    .dataframe thead th {\n",
       "        text-align: right;\n",
       "    }\n",
       "</style>\n",
       "<table border=\"1\" class=\"dataframe\">\n",
       "  <thead>\n",
       "    <tr style=\"text-align: right;\">\n",
       "      <th></th>\n",
       "      <th>sepal_length</th>\n",
       "      <th>sepal_width</th>\n",
       "      <th>petal_length</th>\n",
       "      <th>petal_width</th>\n",
       "      <th>species</th>\n",
       "    </tr>\n",
       "  </thead>\n",
       "  <tbody>\n",
       "    <tr>\n",
       "      <th>0</th>\n",
       "      <td>5.1</td>\n",
       "      <td>3.5</td>\n",
       "      <td>1.4</td>\n",
       "      <td>0.2</td>\n",
       "      <td>setosa</td>\n",
       "    </tr>\n",
       "    <tr>\n",
       "      <th>1</th>\n",
       "      <td>4.9</td>\n",
       "      <td>3.0</td>\n",
       "      <td>1.4</td>\n",
       "      <td>0.2</td>\n",
       "      <td>setosa</td>\n",
       "    </tr>\n",
       "    <tr>\n",
       "      <th>2</th>\n",
       "      <td>4.7</td>\n",
       "      <td>3.2</td>\n",
       "      <td>1.3</td>\n",
       "      <td>0.2</td>\n",
       "      <td>setosa</td>\n",
       "    </tr>\n",
       "    <tr>\n",
       "      <th>3</th>\n",
       "      <td>4.6</td>\n",
       "      <td>3.1</td>\n",
       "      <td>1.5</td>\n",
       "      <td>0.2</td>\n",
       "      <td>setosa</td>\n",
       "    </tr>\n",
       "    <tr>\n",
       "      <th>4</th>\n",
       "      <td>5.0</td>\n",
       "      <td>3.6</td>\n",
       "      <td>1.4</td>\n",
       "      <td>0.2</td>\n",
       "      <td>setosa</td>\n",
       "    </tr>\n",
       "  </tbody>\n",
       "</table>\n",
       "</div>"
      ],
      "text/plain": [
       "   sepal_length  sepal_width  petal_length  petal_width species\n",
       "0           5.1          3.5           1.4          0.2  setosa\n",
       "1           4.9          3.0           1.4          0.2  setosa\n",
       "2           4.7          3.2           1.3          0.2  setosa\n",
       "3           4.6          3.1           1.5          0.2  setosa\n",
       "4           5.0          3.6           1.4          0.2  setosa"
      ]
     },
     "execution_count": 4,
     "metadata": {},
     "output_type": "execute_result"
    }
   ],
   "source": [
    "df = load_dataset('iris')\n",
    "df.head()"
   ]
  },
  {
   "cell_type": "code",
   "execution_count": 12,
   "metadata": {},
   "outputs": [
    {
     "data": {
      "application/vnd.plotly.v1+json": {
       "config": {
        "plotlyServerURL": "https://plot.ly"
       },
       "data": [
        {
         "hovertemplate": "x=%{x}<br>y=%{y}<br>z=%{z}<extra></extra>",
         "legendgroup": "",
         "marker": {
          "color": "#636efa",
          "symbol": "circle"
         },
         "mode": "markers",
         "name": "",
         "scene": "scene",
         "showlegend": false,
         "type": "scatter3d",
         "x": [
          -2.684125625969534,
          -2.7141416872943305,
          -2.888990569059296,
          -2.7453428556414075,
          -2.7287165365545283,
          -2.2808596328444892,
          -2.8205377507406073,
          -2.6261449731466313,
          -2.8863827317805506,
          -2.672755797820951,
          -2.5069470906518547,
          -2.6127552309087227,
          -2.7861092661880162,
          -3.2238037438656497,
          -2.6447503899420264,
          -2.38603903353113,
          -2.6235278752244247,
          -2.6482967062543796,
          -2.1998203236175806,
          -2.5879863998787678,
          -2.310256215242517,
          -2.543705228757155,
          -3.2159394156486116,
          -2.3027331822262056,
          -2.355754049123772,
          -2.506668906925822,
          -2.4688200731213374,
          -2.5623199061960147,
          -2.639534715384544,
          -2.6319893872743467,
          -2.5873984766893527,
          -2.4099324970021714,
          -2.6488623343499103,
          -2.5987367491005835,
          -2.636926878105795,
          -2.8662416521186707,
          -2.6252380498503722,
          -2.8006841154482163,
          -2.9805020437819914,
          -2.590006313968093,
          -2.770102426027896,
          -2.8493687050431036,
          -2.9974065465949074,
          -2.4056144850974888,
          -2.2094892377836772,
          -2.7144514267577065,
          -2.5381482589989437,
          -2.8394621676428526,
          -2.5430857498303885,
          -2.703359782335155,
          1.2848256888583498,
          0.9324885323123148,
          1.4643023219914018,
          0.18331771995837678,
          1.0881032577116625,
          0.6416690842580736,
          1.0950606626324517,
          -0.7491226698296571,
          1.0441318260534345,
          -0.008745404082892103,
          -0.5078408838353232,
          0.5116985574475941,
          0.26497650811204515,
          0.9849345104708916,
          -0.17392537168177027,
          0.9278607809442457,
          0.6602837616969361,
          0.23610499331767523,
          0.9447337280198101,
          0.045226976298701704,
          1.1162831773500568,
          0.35788841799730475,
          1.2981838753589212,
          0.9217289224470454,
          0.714853325911408,
          0.9001743731721658,
          1.3320244367220915,
          1.5578021550660712,
          0.8132906498175385,
          -0.3055837780243055,
          -0.06812649206836134,
          -0.18962247237850566,
          0.13642871155801373,
          1.3800264359155232,
          0.5880064433398672,
          0.8068583125004167,
          1.2206908824443503,
          0.8150952357666018,
          0.24595767988669018,
          0.16641321714545748,
          0.4648002884037799,
          0.8908151984694432,
          0.23054802355945667,
          -0.704531759244666,
          0.35698149470104623,
          0.3319344799450528,
          0.3762156510666747,
          0.6425760075543445,
          -0.906469864948833,
          0.2990008418781437,
          2.531192727803634,
          1.4152358767039026,
          2.6166760159956874,
          1.9715310530434373,
          2.3500059200446457,
          3.397038736053255,
          0.5212322439097762,
          2.932587068993688,
          2.3212288165733765,
          2.9167509667860747,
          1.6617741536365367,
          1.8034019529650962,
          2.1655917960801476,
          1.3461635794584528,
          1.585928223873216,
          1.9044563747934287,
          1.949689059399074,
          3.487055364290279,
          3.795645422072892,
          1.300791712637661,
          2.4278179130660495,
          1.199001105465561,
          3.499920038924539,
          1.3887661316914668,
          2.275430503872204,
          2.614090473810832,
          1.2585081605114856,
          1.291132059115023,
          2.123608722773897,
          2.3880030160034664,
          2.841672778103874,
          3.2306736614320934,
          2.159437642489051,
          1.4441612423295105,
          1.7812948100451114,
          3.0764999316871893,
          2.1442433143020825,
          1.9050981488140777,
          1.1693263393415028,
          2.1076111432572433,
          2.314154705235601,
          1.9222678009026022,
          1.4152358767039028,
          2.5630133750774773,
          2.4187461827328267,
          1.944109794546969,
          1.5271666148145189,
          1.76434571704443,
          1.900941614218425,
          1.390188861947915
         ],
         "y": [
          0.3193972465851024,
          -0.17700122506478194,
          -0.14494942608555764,
          -0.31829897925191597,
          0.326754512934921,
          0.7413304490629156,
          -0.08946138452856696,
          0.16338495969833056,
          -0.5783117541867023,
          -0.11377424587411496,
          0.645068898648575,
          0.014729939161375532,
          -0.2351120002017162,
          -0.5113945870063813,
          1.1787646364375768,
          1.338062330400653,
          0.8106795141812617,
          0.3118491445933575,
          0.8728390389622152,
          0.5135603087492792,
          0.3913459356538981,
          0.43299606327903095,
          0.1334680695385307,
          0.09870885481410302,
          -0.03728185967737835,
          -0.14601688049526293,
          0.13095148943525278,
          0.3677188574342041,
          0.312039980235289,
          -0.19696122492431017,
          -0.20431849127412718,
          0.4109242642295743,
          0.8133638202969636,
          1.0931457594493583,
          -0.12132234786586411,
          0.06936447158008538,
          0.5993700213794295,
          0.2686437377979782,
          -0.4879583444286108,
          0.2290438368270132,
          0.26352753374425364,
          -0.9409605736411897,
          -0.3419260574716045,
          0.18887142893026834,
          0.43666314163919184,
          -0.25020820418520534,
          0.5037711444614481,
          -0.22794556949382175,
          0.5794100215198896,
          0.10770608249941303,
          0.6851604704673159,
          0.3183336382626403,
          0.5042628153091977,
          -0.8279590118206359,
          0.0745906751977275,
          -0.41824687156866913,
          0.2834682700615278,
          -1.00489096118189,
          0.22836189978840163,
          -0.7230819050048355,
          -1.265971190526393,
          -0.10398123549903203,
          -0.5500364636804679,
          -0.1248178541263549,
          -0.25485420870258335,
          0.46717949444151685,
          -0.35296966572384647,
          -0.33361076682491586,
          -0.5431455507797593,
          -0.5838343774718602,
          -0.08461685219478854,
          -0.06892503165600859,
          -0.3277873083339173,
          -0.18273779362136902,
          0.1490559443697918,
          0.32850447383432707,
          0.24444087601634523,
          0.2674954473102573,
          -0.16335030068760817,
          -0.36826218975458697,
          -0.7051721317994624,
          -0.6802867635281271,
          -0.3140324382492323,
          -0.4209542873138844,
          -0.48428741998121705,
          0.19418231471315336,
          0.4076195936110117,
          -0.3720370599095001,
          -0.26852439662201233,
          -0.6819267248636242,
          -0.6707115445117176,
          -0.03446444436826556,
          -0.404385848007322,
          -1.0122482275317108,
          -0.5049100933371071,
          -0.21265468378116859,
          -0.29321892925141557,
          0.017738190112421073,
          -0.7560933665990103,
          -0.34889780645033286,
          -0.0098491094987986,
          -0.5749163475464871,
          0.34390315134173355,
          -0.1797279043522436,
          -0.04026094714252498,
          0.5508366730280557,
          -1.192758727000643,
          0.3555000029774973,
          -0.2438315023106903,
          0.7827919488152814,
          0.24222840775507265,
          -0.2156376173335507,
          0.21627558507402853,
          -0.7768183473443385,
          -0.5396407140267228,
          0.11925069209197708,
          0.04194325966321665,
          1.1757393297134295,
          0.2573229734204863,
          -0.7611496364350584,
          0.3781960126170533,
          -0.6060915277579304,
          0.46067409891189637,
          -0.2043993273521485,
          0.33499060582167683,
          0.560901355123079,
          -0.17970479472274878,
          -0.11666865117400858,
          -0.20972947667730163,
          0.46463980470873556,
          0.3752691671951081,
          1.3741650867930495,
          -0.2172775786690493,
          -0.14341341045757922,
          -0.49990168107813576,
          0.6880856775711796,
          0.1400642010897915,
          0.049300526013031636,
          -0.1649902620231047,
          0.37228787196080015,
          0.1836512791690204,
          0.40920346681606584,
          -0.5749163475464872,
          0.2778626029291965,
          0.30479819785469314,
          0.18753230280060845,
          -0.37531698258048535,
          0.07885885451847775,
          0.11662795851202545,
          -0.28266093799054964
         ],
         "z": [
          -0.027914827589414392,
          -0.21046427237823526,
          0.017900256320890335,
          0.031559373605679925,
          0.09007924055120346,
          0.16867765820910272,
          0.25789215825561845,
          -0.02187931788671795,
          0.020759570264780133,
          -0.19763272498814713,
          -0.07531800937911903,
          0.1021502599565918,
          -0.20684443044964296,
          0.061299672457097346,
          -0.1516275236178072,
          0.27777690270313504,
          0.13818322788071957,
          0.026668315612592874,
          -0.1203055233947282,
          0.21366517222471373,
          -0.2394440432449526,
          0.20845723241671463,
          0.29239675074524446,
          0.039123258742881695,
          0.12502108270287754,
          -0.25342004234465715,
          0.09491057609939309,
          -0.07849420513792159,
          -0.14590889573002583,
          0.040771079067180305,
          -0.07722298907343655,
          -0.14552497200512857,
          0.22566914972011975,
          0.1578108129582224,
          -0.14304958178614194,
          -0.16433230665302256,
          -0.2683503756939333,
          0.09369908247980184,
          0.07292704569269377,
          -0.08008230301732536,
          0.07724769316110583,
          -0.34923037730596324,
          0.19250921171270835,
          0.2638679455134154,
          0.29874274575510784,
          -0.09767814404562906,
          0.1667056366048053,
          0.08372684903359451,
          -0.017115024248515145,
          -0.08929400847882284,
          -0.4065680254676935,
          -0.01801418664623931,
          -0.33832576498090083,
          -0.17959139187535578,
          -0.3077578962347875,
          0.04107609082395686,
          0.16981023986057472,
          0.012302919237592568,
          -0.4153360847593959,
          0.28114143117640983,
          -0.2698171827688533,
          0.13054775024048343,
          -0.6941468301444208,
          -0.06211440832225865,
          0.09045769072570155,
          -0.31462097583216997,
          0.3280275283785907,
          -0.2711618372510645,
          -0.49951904648511547,
          -0.2350021049720579,
          0.4596209913591074,
          -0.22985388760895048,
          -0.3478543522573026,
          -0.23107177773627635,
          -0.3218009372444774,
          -0.31620907371157364,
          -0.5217027796644086,
          -0.16492098374357875,
          0.03542450484615248,
          -0.31849158062303823,
          -0.2442138104335561,
          -0.30642056121766814,
          -0.1772427660112509,
          0.016167127520752493,
          0.4444334986398093,
          0.3889630630982186,
          -0.23716700988388328,
          -0.6147208425918163,
          0.18836681164618835,
          -0.06000922585533545,
          -0.02430685571895614,
          -0.00994693289436058,
          -0.22941024143915476,
          -0.10569114890302794,
          0.01661717019825971,
          0.0832042908956555,
          0.07799635108768434,
          -0.2053949669832418,
          -0.012599647557885233,
          0.010581660495573113,
          0.7601654272459055,
          0.29632252738796466,
          -0.11078788321911409,
          0.10842466246342386,
          0.28538956318445247,
          -0.3484375557974727,
          0.5456592956468139,
          -0.42023993576796775,
          -0.348304394934847,
          0.42333541768256167,
          0.24244018972578435,
          -0.03764816823146641,
          0.033326641844335904,
          0.28190288211846937,
          0.6290293264079985,
          0.479639819626595,
          0.04418616763013048,
          0.13389487393609226,
          -0.5137677638177917,
          -0.3449950383134144,
          0.21911932430194817,
          0.5118555086969955,
          -0.5731822425680025,
          -0.0645227566312692,
          0.2861500911691429,
          -0.20553452435363087,
          0.045847703927240295,
          0.23125646265997202,
          0.15418002392883157,
          -0.4495301919418553,
          -0.49889807587075813,
          -0.11454820547542208,
          0.20876316713083098,
          -0.15323388806309265,
          -0.17287518911342617,
          -0.335592292434538,
          0.734878936725506,
          0.1621802357707372,
          0.2818358402084883,
          0.027291132141630682,
          0.32269374717304844,
          0.11358659579935666,
          0.296322527387963,
          0.2925695245967437,
          0.5044826639771732,
          0.17782509063265564,
          -0.12189817186717755,
          0.13048163128784088,
          0.723251563489914,
          0.36290964808536835
         ]
        }
       ],
       "layout": {
        "legend": {
         "tracegroupgap": 0
        },
        "margin": {
         "t": 60
        },
        "scene": {
         "domain": {
          "x": [
           0,
           1
          ],
          "y": [
           0,
           1
          ]
         },
         "xaxis": {
          "title": {
           "text": "x"
          }
         },
         "yaxis": {
          "title": {
           "text": "y"
          }
         },
         "zaxis": {
          "title": {
           "text": "z"
          }
         }
        },
        "template": {
         "data": {
          "bar": [
           {
            "error_x": {
             "color": "#2a3f5f"
            },
            "error_y": {
             "color": "#2a3f5f"
            },
            "marker": {
             "line": {
              "color": "#E5ECF6",
              "width": 0.5
             },
             "pattern": {
              "fillmode": "overlay",
              "size": 10,
              "solidity": 0.2
             }
            },
            "type": "bar"
           }
          ],
          "barpolar": [
           {
            "marker": {
             "line": {
              "color": "#E5ECF6",
              "width": 0.5
             },
             "pattern": {
              "fillmode": "overlay",
              "size": 10,
              "solidity": 0.2
             }
            },
            "type": "barpolar"
           }
          ],
          "carpet": [
           {
            "aaxis": {
             "endlinecolor": "#2a3f5f",
             "gridcolor": "white",
             "linecolor": "white",
             "minorgridcolor": "white",
             "startlinecolor": "#2a3f5f"
            },
            "baxis": {
             "endlinecolor": "#2a3f5f",
             "gridcolor": "white",
             "linecolor": "white",
             "minorgridcolor": "white",
             "startlinecolor": "#2a3f5f"
            },
            "type": "carpet"
           }
          ],
          "choropleth": [
           {
            "colorbar": {
             "outlinewidth": 0,
             "ticks": ""
            },
            "type": "choropleth"
           }
          ],
          "contour": [
           {
            "colorbar": {
             "outlinewidth": 0,
             "ticks": ""
            },
            "colorscale": [
             [
              0,
              "#0d0887"
             ],
             [
              0.1111111111111111,
              "#46039f"
             ],
             [
              0.2222222222222222,
              "#7201a8"
             ],
             [
              0.3333333333333333,
              "#9c179e"
             ],
             [
              0.4444444444444444,
              "#bd3786"
             ],
             [
              0.5555555555555556,
              "#d8576b"
             ],
             [
              0.6666666666666666,
              "#ed7953"
             ],
             [
              0.7777777777777778,
              "#fb9f3a"
             ],
             [
              0.8888888888888888,
              "#fdca26"
             ],
             [
              1,
              "#f0f921"
             ]
            ],
            "type": "contour"
           }
          ],
          "contourcarpet": [
           {
            "colorbar": {
             "outlinewidth": 0,
             "ticks": ""
            },
            "type": "contourcarpet"
           }
          ],
          "heatmap": [
           {
            "colorbar": {
             "outlinewidth": 0,
             "ticks": ""
            },
            "colorscale": [
             [
              0,
              "#0d0887"
             ],
             [
              0.1111111111111111,
              "#46039f"
             ],
             [
              0.2222222222222222,
              "#7201a8"
             ],
             [
              0.3333333333333333,
              "#9c179e"
             ],
             [
              0.4444444444444444,
              "#bd3786"
             ],
             [
              0.5555555555555556,
              "#d8576b"
             ],
             [
              0.6666666666666666,
              "#ed7953"
             ],
             [
              0.7777777777777778,
              "#fb9f3a"
             ],
             [
              0.8888888888888888,
              "#fdca26"
             ],
             [
              1,
              "#f0f921"
             ]
            ],
            "type": "heatmap"
           }
          ],
          "heatmapgl": [
           {
            "colorbar": {
             "outlinewidth": 0,
             "ticks": ""
            },
            "colorscale": [
             [
              0,
              "#0d0887"
             ],
             [
              0.1111111111111111,
              "#46039f"
             ],
             [
              0.2222222222222222,
              "#7201a8"
             ],
             [
              0.3333333333333333,
              "#9c179e"
             ],
             [
              0.4444444444444444,
              "#bd3786"
             ],
             [
              0.5555555555555556,
              "#d8576b"
             ],
             [
              0.6666666666666666,
              "#ed7953"
             ],
             [
              0.7777777777777778,
              "#fb9f3a"
             ],
             [
              0.8888888888888888,
              "#fdca26"
             ],
             [
              1,
              "#f0f921"
             ]
            ],
            "type": "heatmapgl"
           }
          ],
          "histogram": [
           {
            "marker": {
             "pattern": {
              "fillmode": "overlay",
              "size": 10,
              "solidity": 0.2
             }
            },
            "type": "histogram"
           }
          ],
          "histogram2d": [
           {
            "colorbar": {
             "outlinewidth": 0,
             "ticks": ""
            },
            "colorscale": [
             [
              0,
              "#0d0887"
             ],
             [
              0.1111111111111111,
              "#46039f"
             ],
             [
              0.2222222222222222,
              "#7201a8"
             ],
             [
              0.3333333333333333,
              "#9c179e"
             ],
             [
              0.4444444444444444,
              "#bd3786"
             ],
             [
              0.5555555555555556,
              "#d8576b"
             ],
             [
              0.6666666666666666,
              "#ed7953"
             ],
             [
              0.7777777777777778,
              "#fb9f3a"
             ],
             [
              0.8888888888888888,
              "#fdca26"
             ],
             [
              1,
              "#f0f921"
             ]
            ],
            "type": "histogram2d"
           }
          ],
          "histogram2dcontour": [
           {
            "colorbar": {
             "outlinewidth": 0,
             "ticks": ""
            },
            "colorscale": [
             [
              0,
              "#0d0887"
             ],
             [
              0.1111111111111111,
              "#46039f"
             ],
             [
              0.2222222222222222,
              "#7201a8"
             ],
             [
              0.3333333333333333,
              "#9c179e"
             ],
             [
              0.4444444444444444,
              "#bd3786"
             ],
             [
              0.5555555555555556,
              "#d8576b"
             ],
             [
              0.6666666666666666,
              "#ed7953"
             ],
             [
              0.7777777777777778,
              "#fb9f3a"
             ],
             [
              0.8888888888888888,
              "#fdca26"
             ],
             [
              1,
              "#f0f921"
             ]
            ],
            "type": "histogram2dcontour"
           }
          ],
          "mesh3d": [
           {
            "colorbar": {
             "outlinewidth": 0,
             "ticks": ""
            },
            "type": "mesh3d"
           }
          ],
          "parcoords": [
           {
            "line": {
             "colorbar": {
              "outlinewidth": 0,
              "ticks": ""
             }
            },
            "type": "parcoords"
           }
          ],
          "pie": [
           {
            "automargin": true,
            "type": "pie"
           }
          ],
          "scatter": [
           {
            "fillpattern": {
             "fillmode": "overlay",
             "size": 10,
             "solidity": 0.2
            },
            "type": "scatter"
           }
          ],
          "scatter3d": [
           {
            "line": {
             "colorbar": {
              "outlinewidth": 0,
              "ticks": ""
             }
            },
            "marker": {
             "colorbar": {
              "outlinewidth": 0,
              "ticks": ""
             }
            },
            "type": "scatter3d"
           }
          ],
          "scattercarpet": [
           {
            "marker": {
             "colorbar": {
              "outlinewidth": 0,
              "ticks": ""
             }
            },
            "type": "scattercarpet"
           }
          ],
          "scattergeo": [
           {
            "marker": {
             "colorbar": {
              "outlinewidth": 0,
              "ticks": ""
             }
            },
            "type": "scattergeo"
           }
          ],
          "scattergl": [
           {
            "marker": {
             "colorbar": {
              "outlinewidth": 0,
              "ticks": ""
             }
            },
            "type": "scattergl"
           }
          ],
          "scattermapbox": [
           {
            "marker": {
             "colorbar": {
              "outlinewidth": 0,
              "ticks": ""
             }
            },
            "type": "scattermapbox"
           }
          ],
          "scatterpolar": [
           {
            "marker": {
             "colorbar": {
              "outlinewidth": 0,
              "ticks": ""
             }
            },
            "type": "scatterpolar"
           }
          ],
          "scatterpolargl": [
           {
            "marker": {
             "colorbar": {
              "outlinewidth": 0,
              "ticks": ""
             }
            },
            "type": "scatterpolargl"
           }
          ],
          "scatterternary": [
           {
            "marker": {
             "colorbar": {
              "outlinewidth": 0,
              "ticks": ""
             }
            },
            "type": "scatterternary"
           }
          ],
          "surface": [
           {
            "colorbar": {
             "outlinewidth": 0,
             "ticks": ""
            },
            "colorscale": [
             [
              0,
              "#0d0887"
             ],
             [
              0.1111111111111111,
              "#46039f"
             ],
             [
              0.2222222222222222,
              "#7201a8"
             ],
             [
              0.3333333333333333,
              "#9c179e"
             ],
             [
              0.4444444444444444,
              "#bd3786"
             ],
             [
              0.5555555555555556,
              "#d8576b"
             ],
             [
              0.6666666666666666,
              "#ed7953"
             ],
             [
              0.7777777777777778,
              "#fb9f3a"
             ],
             [
              0.8888888888888888,
              "#fdca26"
             ],
             [
              1,
              "#f0f921"
             ]
            ],
            "type": "surface"
           }
          ],
          "table": [
           {
            "cells": {
             "fill": {
              "color": "#EBF0F8"
             },
             "line": {
              "color": "white"
             }
            },
            "header": {
             "fill": {
              "color": "#C8D4E3"
             },
             "line": {
              "color": "white"
             }
            },
            "type": "table"
           }
          ]
         },
         "layout": {
          "annotationdefaults": {
           "arrowcolor": "#2a3f5f",
           "arrowhead": 0,
           "arrowwidth": 1
          },
          "autotypenumbers": "strict",
          "coloraxis": {
           "colorbar": {
            "outlinewidth": 0,
            "ticks": ""
           }
          },
          "colorscale": {
           "diverging": [
            [
             0,
             "#8e0152"
            ],
            [
             0.1,
             "#c51b7d"
            ],
            [
             0.2,
             "#de77ae"
            ],
            [
             0.3,
             "#f1b6da"
            ],
            [
             0.4,
             "#fde0ef"
            ],
            [
             0.5,
             "#f7f7f7"
            ],
            [
             0.6,
             "#e6f5d0"
            ],
            [
             0.7,
             "#b8e186"
            ],
            [
             0.8,
             "#7fbc41"
            ],
            [
             0.9,
             "#4d9221"
            ],
            [
             1,
             "#276419"
            ]
           ],
           "sequential": [
            [
             0,
             "#0d0887"
            ],
            [
             0.1111111111111111,
             "#46039f"
            ],
            [
             0.2222222222222222,
             "#7201a8"
            ],
            [
             0.3333333333333333,
             "#9c179e"
            ],
            [
             0.4444444444444444,
             "#bd3786"
            ],
            [
             0.5555555555555556,
             "#d8576b"
            ],
            [
             0.6666666666666666,
             "#ed7953"
            ],
            [
             0.7777777777777778,
             "#fb9f3a"
            ],
            [
             0.8888888888888888,
             "#fdca26"
            ],
            [
             1,
             "#f0f921"
            ]
           ],
           "sequentialminus": [
            [
             0,
             "#0d0887"
            ],
            [
             0.1111111111111111,
             "#46039f"
            ],
            [
             0.2222222222222222,
             "#7201a8"
            ],
            [
             0.3333333333333333,
             "#9c179e"
            ],
            [
             0.4444444444444444,
             "#bd3786"
            ],
            [
             0.5555555555555556,
             "#d8576b"
            ],
            [
             0.6666666666666666,
             "#ed7953"
            ],
            [
             0.7777777777777778,
             "#fb9f3a"
            ],
            [
             0.8888888888888888,
             "#fdca26"
            ],
            [
             1,
             "#f0f921"
            ]
           ]
          },
          "colorway": [
           "#636efa",
           "#EF553B",
           "#00cc96",
           "#ab63fa",
           "#FFA15A",
           "#19d3f3",
           "#FF6692",
           "#B6E880",
           "#FF97FF",
           "#FECB52"
          ],
          "font": {
           "color": "#2a3f5f"
          },
          "geo": {
           "bgcolor": "white",
           "lakecolor": "white",
           "landcolor": "#E5ECF6",
           "showlakes": true,
           "showland": true,
           "subunitcolor": "white"
          },
          "hoverlabel": {
           "align": "left"
          },
          "hovermode": "closest",
          "mapbox": {
           "style": "light"
          },
          "paper_bgcolor": "white",
          "plot_bgcolor": "#E5ECF6",
          "polar": {
           "angularaxis": {
            "gridcolor": "white",
            "linecolor": "white",
            "ticks": ""
           },
           "bgcolor": "#E5ECF6",
           "radialaxis": {
            "gridcolor": "white",
            "linecolor": "white",
            "ticks": ""
           }
          },
          "scene": {
           "xaxis": {
            "backgroundcolor": "#E5ECF6",
            "gridcolor": "white",
            "gridwidth": 2,
            "linecolor": "white",
            "showbackground": true,
            "ticks": "",
            "zerolinecolor": "white"
           },
           "yaxis": {
            "backgroundcolor": "#E5ECF6",
            "gridcolor": "white",
            "gridwidth": 2,
            "linecolor": "white",
            "showbackground": true,
            "ticks": "",
            "zerolinecolor": "white"
           },
           "zaxis": {
            "backgroundcolor": "#E5ECF6",
            "gridcolor": "white",
            "gridwidth": 2,
            "linecolor": "white",
            "showbackground": true,
            "ticks": "",
            "zerolinecolor": "white"
           }
          },
          "shapedefaults": {
           "line": {
            "color": "#2a3f5f"
           }
          },
          "ternary": {
           "aaxis": {
            "gridcolor": "white",
            "linecolor": "white",
            "ticks": ""
           },
           "baxis": {
            "gridcolor": "white",
            "linecolor": "white",
            "ticks": ""
           },
           "bgcolor": "#E5ECF6",
           "caxis": {
            "gridcolor": "white",
            "linecolor": "white",
            "ticks": ""
           }
          },
          "title": {
           "x": 0.05
          },
          "xaxis": {
           "automargin": true,
           "gridcolor": "white",
           "linecolor": "white",
           "ticks": "",
           "title": {
            "standoff": 15
           },
           "zerolinecolor": "white",
           "zerolinewidth": 2
          },
          "yaxis": {
           "automargin": true,
           "gridcolor": "white",
           "linecolor": "white",
           "ticks": "",
           "title": {
            "standoff": 15
           },
           "zerolinecolor": "white",
           "zerolinewidth": 2
          }
         }
        }
       }
      }
     },
     "metadata": {},
     "output_type": "display_data"
    }
   ],
   "source": [
    "X = df.drop(columns='species')\n",
    "features = KernelPCA(n_components=3).fit_transform(X)\n",
    "px.scatter_3d(x=features[:,0], y=features[:,1], z=features[:,2])"
   ]
  },
  {
   "cell_type": "code",
   "execution_count": 13,
   "metadata": {},
   "outputs": [],
   "source": [
    "from sklearn.cluster import KMeans"
   ]
  },
  {
   "cell_type": "code",
   "execution_count": 17,
   "metadata": {},
   "outputs": [],
   "source": [
    "wcss = []\n",
    "for k in range(1,11):\n",
    "    model = KMeans(n_clusters=k)\n",
    "    model.fit(features)\n",
    "    wcss.append({\n",
    "        'k': k,\n",
    "        'wcss': model.inertia_\n",
    "    })    "
   ]
  },
  {
   "cell_type": "code",
   "execution_count": 27,
   "metadata": {},
   "outputs": [
    {
     "data": {
      "image/png": "[encoded data removed]",
      "text/plain": [
       "<Figure size 1080x504 with 1 Axes>"
      ]
     },
     "metadata": {
      "needs_background": "light"
     },
     "output_type": "display_data"
    }
   ],
   "source": [
    "pd.DataFrame(wcss).plot(kind='line',x='k',y='wcss',\n",
    "    linewidth=2, markersize=10, style='ro--', figsize=(15,7))\n",
    "plt.show()"
   ]
  },
  {
   "cell_type": "code",
   "execution_count": 32,
   "metadata": {},
   "outputs": [
    {
     "data": {
      "application/vnd.plotly.v1+json": {
       "config": {
        "plotlyServerURL": "https://plot.ly"
       },
       "data": [
        {
         "hovertemplate": "symbol=1<br>x=%{x}<br>y=%{y}<br>z=%{z}<br>color=%{marker.color}<extra></extra>",
         "legendgroup": "1",
         "marker": {
          "color": [
           1,
           1,
           1,
           1,
           1,
           1,
           1,
           1,
           1,
           1,
           1,
           1,
           1,
           1,
           1,
           1,
           1,
           1,
           1,
           1,
           1,
           1,
           1,
           1,
           1,
           1,
           1,
           1,
           1,
           1,
           1,
           1,
           1,
           1,
           1,
           1,
           1,
           1,
           1,
           1,
           1,
           1,
           1,
           1,
           1,
           1,
           1,
           1,
           1,
           1
          ],
          "coloraxis": "coloraxis",
          "symbol": "circle"
         },
         "mode": "markers",
         "name": "1",
         "scene": "scene",
         "showlegend": true,
         "type": "scatter3d",
         "x": [
          -2.684125625969534,
          -2.7141416872943305,
          -2.888990569059296,
          -2.7453428556414075,
          -2.7287165365545283,
          -2.2808596328444892,
          -2.8205377507406073,
          -2.6261449731466313,
          -2.8863827317805506,
          -2.672755797820951,
          -2.5069470906518547,
          -2.6127552309087227,
          -2.7861092661880162,
          -3.2238037438656497,
          -2.6447503899420264,
          -2.38603903353113,
          -2.6235278752244247,
          -2.6482967062543796,
          -2.1998203236175806,
          -2.5879863998787678,
          -2.310256215242517,
          -2.543705228757155,
          -3.2159394156486116,
          -2.3027331822262056,
          -2.355754049123772,
          -2.506668906925822,
          -2.4688200731213374,
          -2.5623199061960147,
          -2.639534715384544,
          -2.6319893872743467,
          -2.5873984766893527,
          -2.4099324970021714,
          -2.6488623343499103,
          -2.5987367491005835,
          -2.636926878105795,
          -2.8662416521186707,
          -2.6252380498503722,
          -2.8006841154482163,
          -2.9805020437819914,
          -2.590006313968093,
          -2.770102426027896,
          -2.8493687050431036,
          -2.9974065465949074,
          -2.4056144850974888,
          -2.2094892377836772,
          -2.7144514267577065,
          -2.5381482589989437,
          -2.8394621676428526,
          -2.5430857498303885,
          -2.703359782335155
         ],
         "y": [
          0.3193972465851024,
          -0.17700122506478194,
          -0.14494942608555764,
          -0.31829897925191597,
          0.326754512934921,
          0.7413304490629156,
          -0.08946138452856696,
          0.16338495969833056,
          -0.5783117541867023,
          -0.11377424587411496,
          0.645068898648575,
          0.014729939161375532,
          -0.2351120002017162,
          -0.5113945870063813,
          1.1787646364375768,
          1.338062330400653,
          0.8106795141812617,
          0.3118491445933575,
          0.8728390389622152,
          0.5135603087492792,
          0.3913459356538981,
          0.43299606327903095,
          0.1334680695385307,
          0.09870885481410302,
          -0.03728185967737835,
          -0.14601688049526293,
          0.13095148943525278,
          0.3677188574342041,
          0.312039980235289,
          -0.19696122492431017,
          -0.20431849127412718,
          0.4109242642295743,
          0.8133638202969636,
          1.0931457594493583,
          -0.12132234786586411,
          0.06936447158008538,
          0.5993700213794295,
          0.2686437377979782,
          -0.4879583444286108,
          0.2290438368270132,
          0.26352753374425364,
          -0.9409605736411897,
          -0.3419260574716045,
          0.18887142893026834,
          0.43666314163919184,
          -0.25020820418520534,
          0.5037711444614481,
          -0.22794556949382175,
          0.5794100215198896,
          0.10770608249941303
         ],
         "z": [
          -0.027914827589414392,
          -0.21046427237823526,
          0.017900256320890335,
          0.031559373605679925,
          0.09007924055120346,
          0.16867765820910272,
          0.25789215825561845,
          -0.02187931788671795,
          0.020759570264780133,
          -0.19763272498814713,
          -0.07531800937911903,
          0.1021502599565918,
          -0.20684443044964296,
          0.061299672457097346,
          -0.1516275236178072,
          0.27777690270313504,
          0.13818322788071957,
          0.026668315612592874,
          -0.1203055233947282,
          0.21366517222471373,
          -0.2394440432449526,
          0.20845723241671463,
          0.29239675074524446,
          0.039123258742881695,
          0.12502108270287754,
          -0.25342004234465715,
          0.09491057609939309,
          -0.07849420513792159,
          -0.14590889573002583,
          0.040771079067180305,
          -0.07722298907343655,
          -0.14552497200512857,
          0.22566914972011975,
          0.1578108129582224,
          -0.14304958178614194,
          -0.16433230665302256,
          -0.2683503756939333,
          0.09369908247980184,
          0.07292704569269377,
          -0.08008230301732536,
          0.07724769316110583,
          -0.34923037730596324,
          0.19250921171270835,
          0.2638679455134154,
          0.29874274575510784,
          -0.09767814404562906,
          0.1667056366048053,
          0.08372684903359451,
          -0.017115024248515145,
          -0.08929400847882284
         ]
        },
        {
         "hovertemplate": "symbol=0<br>x=%{x}<br>y=%{y}<br>z=%{z}<br>color=%{marker.color}<extra></extra>",
         "legendgroup": "0",
         "marker": {
          "color": [
           0,
           0,
           0,
           0,
           0,
           0,
           0,
           0,
           0,
           0,
           0,
           0,
           0,
           0,
           0,
           0,
           0,
           0,
           0,
           0,
           0,
           0,
           0,
           0,
           0,
           0,
           0,
           0,
           0,
           0,
           0,
           0,
           0,
           0,
           0,
           0,
           0,
           0,
           0,
           0,
           0,
           0,
           0,
           0,
           0,
           0,
           0,
           0,
           0,
           0,
           0,
           0,
           0,
           0,
           0,
           0,
           0,
           0,
           0,
           0,
           0,
           0
          ],
          "coloraxis": "coloraxis",
          "symbol": "diamond"
         },
         "mode": "markers",
         "name": "0",
         "scene": "scene",
         "showlegend": true,
         "type": "scatter3d",
         "x": [
          1.2848256888583498,
          0.9324885323123148,
          0.18331771995837678,
          1.0881032577116625,
          0.6416690842580736,
          1.0950606626324517,
          -0.7491226698296571,
          1.0441318260534345,
          -0.008745404082892103,
          -0.5078408838353232,
          0.5116985574475941,
          0.26497650811204515,
          0.9849345104708916,
          -0.17392537168177027,
          0.9278607809442457,
          0.6602837616969361,
          0.23610499331767523,
          0.9447337280198101,
          0.045226976298701704,
          1.1162831773500568,
          0.35788841799730475,
          1.2981838753589212,
          0.9217289224470454,
          0.714853325911408,
          0.9001743731721658,
          1.3320244367220915,
          0.8132906498175385,
          -0.3055837780243055,
          -0.06812649206836134,
          -0.18962247237850566,
          0.13642871155801373,
          1.3800264359155232,
          0.5880064433398672,
          0.8068583125004167,
          1.2206908824443503,
          0.8150952357666018,
          0.24595767988669018,
          0.16641321714545748,
          0.4648002884037799,
          0.8908151984694432,
          0.23054802355945667,
          -0.704531759244666,
          0.35698149470104623,
          0.3319344799450528,
          0.3762156510666747,
          0.6425760075543445,
          -0.906469864948833,
          0.2990008418781437,
          1.4152358767039026,
          0.5212322439097762,
          1.3461635794584528,
          1.585928223873216,
          1.300791712637661,
          1.199001105465561,
          1.3887661316914668,
          1.2585081605114856,
          1.291132059115023,
          1.4441612423295105,
          1.1693263393415028,
          1.4152358767039028,
          1.5271666148145189,
          1.390188861947915
         ],
         "y": [
          0.6851604704673159,
          0.3183336382626403,
          -0.8279590118206359,
          0.0745906751977275,
          -0.41824687156866913,
          0.2834682700615278,
          -1.00489096118189,
          0.22836189978840163,
          -0.7230819050048355,
          -1.265971190526393,
          -0.10398123549903203,
          -0.5500364636804679,
          -0.1248178541263549,
          -0.25485420870258335,
          0.46717949444151685,
          -0.35296966572384647,
          -0.33361076682491586,
          -0.5431455507797593,
          -0.5838343774718602,
          -0.08461685219478854,
          -0.06892503165600859,
          -0.3277873083339173,
          -0.18273779362136902,
          0.1490559443697918,
          0.32850447383432707,
          0.24444087601634523,
          -0.16335030068760817,
          -0.36826218975458697,
          -0.7051721317994624,
          -0.6802867635281271,
          -0.3140324382492323,
          -0.4209542873138844,
          -0.48428741998121705,
          0.19418231471315336,
          0.4076195936110117,
          -0.3720370599095001,
          -0.26852439662201233,
          -0.6819267248636242,
          -0.6707115445117176,
          -0.03446444436826556,
          -0.404385848007322,
          -1.0122482275317108,
          -0.5049100933371071,
          -0.21265468378116859,
          -0.29321892925141557,
          0.017738190112421073,
          -0.7560933665990103,
          -0.34889780645033286,
          -0.5749163475464871,
          -1.192758727000643,
          -0.7768183473443385,
          -0.5396407140267228,
          -0.7611496364350584,
          -0.6060915277579304,
          -0.2043993273521485,
          -0.17970479472274878,
          -0.11666865117400858,
          -0.14341341045757922,
          -0.1649902620231047,
          -0.5749163475464872,
          -0.37531698258048535,
          -0.28266093799054964
         ],
         "z": [
          -0.4065680254676935,
          -0.01801418664623931,
          -0.17959139187535578,
          -0.3077578962347875,
          0.04107609082395686,
          0.16981023986057472,
          0.012302919237592568,
          -0.4153360847593959,
          0.28114143117640983,
          -0.2698171827688533,
          0.13054775024048343,
          -0.6941468301444208,
          -0.06211440832225865,
          0.09045769072570155,
          -0.31462097583216997,
          0.3280275283785907,
          -0.2711618372510645,
          -0.49951904648511547,
          -0.2350021049720579,
          0.4596209913591074,
          -0.22985388760895048,
          -0.3478543522573026,
          -0.23107177773627635,
          -0.3218009372444774,
          -0.31620907371157364,
          -0.5217027796644086,
          0.03542450484615248,
          -0.31849158062303823,
          -0.2442138104335561,
          -0.30642056121766814,
          -0.1772427660112509,
          0.016167127520752493,
          0.4444334986398093,
          0.3889630630982186,
          -0.23716700988388328,
          -0.6147208425918163,
          0.18836681164618835,
          -0.06000922585533545,
          -0.02430685571895614,
          -0.00994693289436058,
          -0.22941024143915476,
          -0.10569114890302794,
          0.01661717019825971,
          0.0832042908956555,
          0.07799635108768434,
          -0.2053949669832418,
          -0.012599647557885233,
          0.010581660495573113,
          0.29632252738796466,
          0.5456592956468139,
          0.28190288211846937,
          0.6290293264079985,
          -0.3449950383134144,
          0.5118555086969955,
          -0.0645227566312692,
          0.045847703927240295,
          0.23125646265997202,
          -0.15323388806309265,
          0.2818358402084883,
          0.296322527387963,
          -0.12189817186717755,
          0.36290964808536835
         ]
        },
        {
         "hovertemplate": "symbol=2<br>x=%{x}<br>y=%{y}<br>z=%{z}<br>color=%{marker.color}<extra></extra>",
         "legendgroup": "2",
         "marker": {
          "color": [
           2,
           2,
           2,
           2,
           2,
           2,
           2,
           2,
           2,
           2,
           2,
           2,
           2,
           2,
           2,
           2,
           2,
           2,
           2,
           2,
           2,
           2,
           2,
           2,
           2,
           2,
           2,
           2,
           2,
           2,
           2,
           2,
           2,
           2,
           2,
           2,
           2,
           2
          ],
          "coloraxis": "coloraxis",
          "symbol": "square"
         },
         "mode": "markers",
         "name": "2",
         "scene": "scene",
         "showlegend": true,
         "type": "scatter3d",
         "x": [
          1.4643023219914018,
          1.5578021550660712,
          2.531192727803634,
          2.6166760159956874,
          1.9715310530434373,
          2.3500059200446457,
          3.397038736053255,
          2.932587068993688,
          2.3212288165733765,
          2.9167509667860747,
          1.6617741536365367,
          1.8034019529650962,
          2.1655917960801476,
          1.9044563747934287,
          1.949689059399074,
          3.487055364290279,
          3.795645422072892,
          2.4278179130660495,
          3.499920038924539,
          2.275430503872204,
          2.614090473810832,
          2.123608722773897,
          2.3880030160034664,
          2.841672778103874,
          3.2306736614320934,
          2.159437642489051,
          1.7812948100451114,
          3.0764999316871893,
          2.1442433143020825,
          1.9050981488140777,
          2.1076111432572433,
          2.314154705235601,
          1.9222678009026022,
          2.5630133750774773,
          2.4187461827328267,
          1.944109794546969,
          1.76434571704443,
          1.900941614218425
         ],
         "y": [
          0.5042628153091977,
          0.2674954473102573,
          -0.0098491094987986,
          0.34390315134173355,
          -0.1797279043522436,
          -0.04026094714252498,
          0.5508366730280557,
          0.3555000029774973,
          -0.2438315023106903,
          0.7827919488152814,
          0.24222840775507265,
          -0.2156376173335507,
          0.21627558507402853,
          0.11925069209197708,
          0.04194325966321665,
          1.1757393297134295,
          0.2573229734204863,
          0.3781960126170533,
          0.46067409891189637,
          0.33499060582167683,
          0.560901355123079,
          -0.20972947667730163,
          0.46463980470873556,
          0.3752691671951081,
          1.3741650867930495,
          -0.2172775786690493,
          -0.49990168107813576,
          0.6880856775711796,
          0.1400642010897915,
          0.049300526013031636,
          0.37228787196080015,
          0.1836512791690204,
          0.40920346681606584,
          0.2778626029291965,
          0.30479819785469314,
          0.18753230280060845,
          0.07885885451847775,
          0.11662795851202545
         ],
         "z": [
          -0.33832576498090083,
          -0.16492098374357875,
          0.7601654272459055,
          -0.11078788321911409,
          0.10842466246342386,
          0.28538956318445247,
          -0.3484375557974727,
          -0.42023993576796775,
          -0.348304394934847,
          0.42333541768256167,
          0.24244018972578435,
          -0.03764816823146641,
          0.033326641844335904,
          0.479639819626595,
          0.04418616763013048,
          0.13389487393609226,
          -0.5137677638177917,
          0.21911932430194817,
          -0.5731822425680025,
          0.2861500911691429,
          -0.20553452435363087,
          0.15418002392883157,
          -0.4495301919418553,
          -0.49889807587075813,
          -0.11454820547542208,
          0.20876316713083098,
          -0.17287518911342617,
          -0.335592292434538,
          0.734878936725506,
          0.1621802357707372,
          0.027291132141630682,
          0.32269374717304844,
          0.11358659579935666,
          0.2925695245967437,
          0.5044826639771732,
          0.17782509063265564,
          0.13048163128784088,
          0.723251563489914
         ]
        }
       ],
       "layout": {
        "coloraxis": {
         "colorbar": {
          "title": {
           "text": "color"
          }
         },
         "colorscale": [
          [
           0,
           "#0d0887"
          ],
          [
           0.1111111111111111,
           "#46039f"
          ],
          [
           0.2222222222222222,
           "#7201a8"
          ],
          [
           0.3333333333333333,
           "#9c179e"
          ],
          [
           0.4444444444444444,
           "#bd3786"
          ],
          [
           0.5555555555555556,
           "#d8576b"
          ],
          [
           0.6666666666666666,
           "#ed7953"
          ],
          [
           0.7777777777777778,
           "#fb9f3a"
          ],
          [
           0.8888888888888888,
           "#fdca26"
          ],
          [
           1,
           "#f0f921"
          ]
         ]
        },
        "legend": {
         "title": {
          "text": "symbol"
         },
         "tracegroupgap": 0
        },
        "margin": {
         "t": 60
        },
        "scene": {
         "domain": {
          "x": [
           0,
           1
          ],
          "y": [
           0,
           1
          ]
         },
         "xaxis": {
          "title": {
           "text": "x"
          }
         },
         "yaxis": {
          "title": {
           "text": "y"
          }
         },
         "zaxis": {
          "title": {
           "text": "z"
          }
         }
        },
        "template": {
         "data": {
          "bar": [
           {
            "error_x": {
             "color": "#2a3f5f"
            },
            "error_y": {
             "color": "#2a3f5f"
            },
            "marker": {
             "line": {
              "color": "#E5ECF6",
              "width": 0.5
             },
             "pattern": {
              "fillmode": "overlay",
              "size": 10,
              "solidity": 0.2
             }
            },
            "type": "bar"
           }
          ],
          "barpolar": [
           {
            "marker": {
             "line": {
              "color": "#E5ECF6",
              "width": 0.5
             },
             "pattern": {
              "fillmode": "overlay",
              "size": 10,
              "solidity": 0.2
             }
            },
            "type": "barpolar"
           }
          ],
          "carpet": [
           {
            "aaxis": {
             "endlinecolor": "#2a3f5f",
             "gridcolor": "white",
             "linecolor": "white",
             "minorgridcolor": "white",
             "startlinecolor": "#2a3f5f"
            },
            "baxis": {
             "endlinecolor": "#2a3f5f",
             "gridcolor": "white",
             "linecolor": "white",
             "minorgridcolor": "white",
             "startlinecolor": "#2a3f5f"
            },
            "type": "carpet"
           }
          ],
          "choropleth": [
           {
            "colorbar": {
             "outlinewidth": 0,
             "ticks": ""
            },
            "type": "choropleth"
           }
          ],
          "contour": [
           {
            "colorbar": {
             "outlinewidth": 0,
             "ticks": ""
            },
            "colorscale": [
             [
              0,
              "#0d0887"
             ],
             [
              0.1111111111111111,
              "#46039f"
             ],
             [
              0.2222222222222222,
              "#7201a8"
             ],
             [
              0.3333333333333333,
              "#9c179e"
             ],
             [
              0.4444444444444444,
              "#bd3786"
             ],
             [
              0.5555555555555556,
              "#d8576b"
             ],
             [
              0.6666666666666666,
              "#ed7953"
             ],
             [
              0.7777777777777778,
              "#fb9f3a"
             ],
             [
              0.8888888888888888,
              "#fdca26"
             ],
             [
              1,
              "#f0f921"
             ]
            ],
            "type": "contour"
           }
          ],
          "contourcarpet": [
           {
            "colorbar": {
             "outlinewidth": 0,
             "ticks": ""
            },
            "type": "contourcarpet"
           }
          ],
          "heatmap": [
           {
            "colorbar": {
             "outlinewidth": 0,
             "ticks": ""
            },
            "colorscale": [
             [
              0,
              "#0d0887"
             ],
             [
              0.1111111111111111,
              "#46039f"
             ],
             [
              0.2222222222222222,
              "#7201a8"
             ],
             [
              0.3333333333333333,
              "#9c179e"
             ],
             [
              0.4444444444444444,
              "#bd3786"
             ],
             [
              0.5555555555555556,
              "#d8576b"
             ],
             [
              0.6666666666666666,
              "#ed7953"
             ],
             [
              0.7777777777777778,
              "#fb9f3a"
             ],
             [
              0.8888888888888888,
              "#fdca26"
             ],
             [
              1,
              "#f0f921"
             ]
            ],
            "type": "heatmap"
           }
          ],
          "heatmapgl": [
           {
            "colorbar": {
             "outlinewidth": 0,
             "ticks": ""
            },
            "colorscale": [
             [
              0,
              "#0d0887"
             ],
             [
              0.1111111111111111,
              "#46039f"
             ],
             [
              0.2222222222222222,
              "#7201a8"
             ],
             [
              0.3333333333333333,
              "#9c179e"
             ],
             [
              0.4444444444444444,
              "#bd3786"
             ],
             [
              0.5555555555555556,
              "#d8576b"
             ],
             [
              0.6666666666666666,
              "#ed7953"
             ],
             [
              0.7777777777777778,
              "#fb9f3a"
             ],
             [
              0.8888888888888888,
              "#fdca26"
             ],
             [
              1,
              "#f0f921"
             ]
            ],
            "type": "heatmapgl"
           }
          ],
          "histogram": [
           {
            "marker": {
             "pattern": {
              "fillmode": "overlay",
              "size": 10,
              "solidity": 0.2
             }
            },
            "type": "histogram"
           }
          ],
          "histogram2d": [
           {
            "colorbar": {
             "outlinewidth": 0,
             "ticks": ""
            },
            "colorscale": [
             [
              0,
              "#0d0887"
             ],
             [
              0.1111111111111111,
              "#46039f"
             ],
             [
              0.2222222222222222,
              "#7201a8"
             ],
             [
              0.3333333333333333,
              "#9c179e"
             ],
             [
              0.4444444444444444,
              "#bd3786"
             ],
             [
              0.5555555555555556,
              "#d8576b"
             ],
             [
              0.6666666666666666,
              "#ed7953"
             ],
             [
              0.7777777777777778,
              "#fb9f3a"
             ],
             [
              0.8888888888888888,
              "#fdca26"
             ],
             [
              1,
              "#f0f921"
             ]
            ],
            "type": "histogram2d"
           }
          ],
          "histogram2dcontour": [
           {
            "colorbar": {
             "outlinewidth": 0,
             "ticks": ""
            },
            "colorscale": [
             [
              0,
              "#0d0887"
             ],
             [
              0.1111111111111111,
              "#46039f"
             ],
             [
              0.2222222222222222,
              "#7201a8"
             ],
             [
              0.3333333333333333,
              "#9c179e"
             ],
             [
              0.4444444444444444,
              "#bd3786"
             ],
             [
              0.5555555555555556,
              "#d8576b"
             ],
             [
              0.6666666666666666,
              "#ed7953"
             ],
             [
              0.7777777777777778,
              "#fb9f3a"
             ],
             [
              0.8888888888888888,
              "#fdca26"
             ],
             [
              1,
              "#f0f921"
             ]
            ],
            "type": "histogram2dcontour"
           }
          ],
          "mesh3d": [
           {
            "colorbar": {
             "outlinewidth": 0,
             "ticks": ""
            },
            "type": "mesh3d"
           }
          ],
          "parcoords": [
           {
            "line": {
             "colorbar": {
              "outlinewidth": 0,
              "ticks": ""
             }
            },
            "type": "parcoords"
           }
          ],
          "pie": [
           {
            "automargin": true,
            "type": "pie"
           }
          ],
          "scatter": [
           {
            "fillpattern": {
             "fillmode": "overlay",
             "size": 10,
             "solidity": 0.2
            },
            "type": "scatter"
           }
          ],
          "scatter3d": [
           {
            "line": {
             "colorbar": {
              "outlinewidth": 0,
              "ticks": ""
             }
            },
            "marker": {
             "colorbar": {
              "outlinewidth": 0,
              "ticks": ""
             }
            },
            "type": "scatter3d"
           }
          ],
          "scattercarpet": [
           {
            "marker": {
             "colorbar": {
              "outlinewidth": 0,
              "ticks": ""
             }
            },
            "type": "scattercarpet"
           }
          ],
          "scattergeo": [
           {
            "marker": {
             "colorbar": {
              "outlinewidth": 0,
              "ticks": ""
             }
            },
            "type": "scattergeo"
           }
          ],
          "scattergl": [
           {
            "marker": {
             "colorbar": {
              "outlinewidth": 0,
              "ticks": ""
             }
            },
            "type": "scattergl"
           }
          ],
          "scattermapbox": [
           {
            "marker": {
             "colorbar": {
              "outlinewidth": 0,
              "ticks": ""
             }
            },
            "type": "scattermapbox"
           }
          ],
          "scatterpolar": [
           {
            "marker": {
             "colorbar": {
              "outlinewidth": 0,
              "ticks": ""
             }
            },
            "type": "scatterpolar"
           }
          ],
          "scatterpolargl": [
           {
            "marker": {
             "colorbar": {
              "outlinewidth": 0,
              "ticks": ""
             }
            },
            "type": "scatterpolargl"
           }
          ],
          "scatterternary": [
           {
            "marker": {
             "colorbar": {
              "outlinewidth": 0,
              "ticks": ""
             }
            },
            "type": "scatterternary"
           }
          ],
          "surface": [
           {
            "colorbar": {
             "outlinewidth": 0,
             "ticks": ""
            },
            "colorscale": [
             [
              0,
              "#0d0887"
             ],
             [
              0.1111111111111111,
              "#46039f"
             ],
             [
              0.2222222222222222,
              "#7201a8"
             ],
             [
              0.3333333333333333,
              "#9c179e"
             ],
             [
              0.4444444444444444,
              "#bd3786"
             ],
             [
              0.5555555555555556,
              "#d8576b"
             ],
             [
              0.6666666666666666,
              "#ed7953"
             ],
             [
              0.7777777777777778,
              "#fb9f3a"
             ],
             [
              0.8888888888888888,
              "#fdca26"
             ],
             [
              1,
              "#f0f921"
             ]
            ],
            "type": "surface"
           }
          ],
          "table": [
           {
            "cells": {
             "fill": {
              "color": "#EBF0F8"
             },
             "line": {
              "color": "white"
             }
            },
            "header": {
             "fill": {
              "color": "#C8D4E3"
             },
             "line": {
              "color": "white"
             }
            },
            "type": "table"
           }
          ]
         },
         "layout": {
          "annotationdefaults": {
           "arrowcolor": "#2a3f5f",
           "arrowhead": 0,
           "arrowwidth": 1
          },
          "autotypenumbers": "strict",
          "coloraxis": {
           "colorbar": {
            "outlinewidth": 0,
            "ticks": ""
           }
          },
          "colorscale": {
           "diverging": [
            [
             0,
             "#8e0152"
            ],
            [
             0.1,
             "#c51b7d"
            ],
            [
             0.2,
             "#de77ae"
            ],
            [
             0.3,
             "#f1b6da"
            ],
            [
             0.4,
             "#fde0ef"
            ],
            [
             0.5,
             "#f7f7f7"
            ],
            [
             0.6,
             "#e6f5d0"
            ],
            [
             0.7,
             "#b8e186"
            ],
            [
             0.8,
             "#7fbc41"
            ],
            [
             0.9,
             "#4d9221"
            ],
            [
             1,
             "#276419"
            ]
           ],
           "sequential": [
            [
             0,
             "#0d0887"
            ],
            [
             0.1111111111111111,
             "#46039f"
            ],
            [
             0.2222222222222222,
             "#7201a8"
            ],
            [
             0.3333333333333333,
             "#9c179e"
            ],
            [
             0.4444444444444444,
             "#bd3786"
            ],
            [
             0.5555555555555556,
             "#d8576b"
            ],
            [
             0.6666666666666666,
             "#ed7953"
            ],
            [
             0.7777777777777778,
             "#fb9f3a"
            ],
            [
             0.8888888888888888,
             "#fdca26"
            ],
            [
             1,
             "#f0f921"
            ]
           ],
           "sequentialminus": [
            [
             0,
             "#0d0887"
            ],
            [
             0.1111111111111111,
             "#46039f"
            ],
            [
             0.2222222222222222,
             "#7201a8"
            ],
            [
             0.3333333333333333,
             "#9c179e"
            ],
            [
             0.4444444444444444,
             "#bd3786"
            ],
            [
             0.5555555555555556,
             "#d8576b"
            ],
            [
             0.6666666666666666,
             "#ed7953"
            ],
            [
             0.7777777777777778,
             "#fb9f3a"
            ],
            [
             0.8888888888888888,
             "#fdca26"
            ],
            [
             1,
             "#f0f921"
            ]
           ]
          },
          "colorway": [
           "#636efa",
           "#EF553B",
           "#00cc96",
           "#ab63fa",
           "#FFA15A",
           "#19d3f3",
           "#FF6692",
           "#B6E880",
           "#FF97FF",
           "#FECB52"
          ],
          "font": {
           "color": "#2a3f5f"
          },
          "geo": {
           "bgcolor": "white",
           "lakecolor": "white",
           "landcolor": "#E5ECF6",
           "showlakes": true,
           "showland": true,
           "subunitcolor": "white"
          },
          "hoverlabel": {
           "align": "left"
          },
          "hovermode": "closest",
          "mapbox": {
           "style": "light"
          },
          "paper_bgcolor": "white",
          "plot_bgcolor": "#E5ECF6",
          "polar": {
           "angularaxis": {
            "gridcolor": "white",
            "linecolor": "white",
            "ticks": ""
           },
           "bgcolor": "#E5ECF6",
           "radialaxis": {
            "gridcolor": "white",
            "linecolor": "white",
            "ticks": ""
           }
          },
          "scene": {
           "xaxis": {
            "backgroundcolor": "#E5ECF6",
            "gridcolor": "white",
            "gridwidth": 2,
            "linecolor": "white",
            "showbackground": true,
            "ticks": "",
            "zerolinecolor": "white"
           },
           "yaxis": {
            "backgroundcolor": "#E5ECF6",
            "gridcolor": "white",
            "gridwidth": 2,
            "linecolor": "white",
            "showbackground": true,
            "ticks": "",
            "zerolinecolor": "white"
           },
           "zaxis": {
            "backgroundcolor": "#E5ECF6",
            "gridcolor": "white",
            "gridwidth": 2,
            "linecolor": "white",
            "showbackground": true,
            "ticks": "",
            "zerolinecolor": "white"
           }
          },
          "shapedefaults": {
           "line": {
            "color": "#2a3f5f"
           }
          },
          "ternary": {
           "aaxis": {
            "gridcolor": "white",
            "linecolor": "white",
            "ticks": ""
           },
           "baxis": {
            "gridcolor": "white",
            "linecolor": "white",
            "ticks": ""
           },
           "bgcolor": "#E5ECF6",
           "caxis": {
            "gridcolor": "white",
            "linecolor": "white",
            "ticks": ""
           }
          },
          "title": {
           "x": 0.05
          },
          "xaxis": {
           "automargin": true,
           "gridcolor": "white",
           "linecolor": "white",
           "ticks": "",
           "title": {
            "standoff": 15
           },
           "zerolinecolor": "white",
           "zerolinewidth": 2
          },
          "yaxis": {
           "automargin": true,
           "gridcolor": "white",
           "linecolor": "white",
           "ticks": "",
           "title": {
            "standoff": 15
           },
           "zerolinecolor": "white",
           "zerolinewidth": 2
          }
         }
        }
       }
      }
     },
     "metadata": {},
     "output_type": "display_data"
    }
   ],
   "source": [
    "model = KMeans(n_clusters=3)\n",
    "model.fit(features)\n",
    "groups = model.predict(features)\n",
    "# print(groups)\n",
    "px.scatter_3d(x=features[:,0], y=features[:,1], \n",
    "    z=features[:,2], color=groups, symbol=groups)"
   ]
  },
  {
   "cell_type": "code",
   "execution_count": 34,
   "metadata": {},
   "outputs": [],
   "source": [
    "from sklearn.pipeline import make_pipeline"
   ]
  },
  {
   "cell_type": "code",
   "execution_count": 35,
   "metadata": {},
   "outputs": [
    {
     "data": {
      "text/html": [
       "<style>#sk-container-id-1 {color: black;background-color: white;}#sk-container-id-1 pre{padding: 0;}#sk-container-id-1 div.sk-toggleable {background-color: white;}#sk-container-id-1 label.sk-toggleable__label {cursor: pointer;display: block;width: 100%;margin-bottom: 0;padding: 0.3em;box-sizing: border-box;text-align: center;}#sk-container-id-1 label.sk-toggleable__label-arrow:before {content: \"▸\";float: left;margin-right: 0.25em;color: #696969;}#sk-container-id-1 label.sk-toggleable__label-arrow:hover:before {color: black;}#sk-container-id-1 div.sk-estimator:hover label.sk-toggleable__label-arrow:before {color: black;}#sk-container-id-1 div.sk-toggleable__content {max-height: 0;max-width: 0;overflow: hidden;text-align: left;background-color: #f0f8ff;}#sk-container-id-1 div.sk-toggleable__content pre {margin: 0.2em;color: black;border-radius: 0.25em;background-color: #f0f8ff;}#sk-container-id-1 input.sk-toggleable__control:checked~div.sk-toggleable__content {max-height: 200px;max-width: 100%;overflow: auto;}#sk-container-id-1 input.sk-toggleable__control:checked~label.sk-toggleable__label-arrow:before {content: \"▾\";}#sk-container-id-1 div.sk-estimator input.sk-toggleable__control:checked~label.sk-toggleable__label {background-color: #d4ebff;}#sk-container-id-1 div.sk-label input.sk-toggleable__control:checked~label.sk-toggleable__label {background-color: #d4ebff;}#sk-container-id-1 input.sk-hidden--visually {border: 0;clip: rect(1px 1px 1px 1px);clip: rect(1px, 1px, 1px, 1px);height: 1px;margin: -1px;overflow: hidden;padding: 0;position: absolute;width: 1px;}#sk-container-id-1 div.sk-estimator {font-family: monospace;background-color: #f0f8ff;border: 1px dotted black;border-radius: 0.25em;box-sizing: border-box;margin-bottom: 0.5em;}#sk-container-id-1 div.sk-estimator:hover {background-color: #d4ebff;}#sk-container-id-1 div.sk-parallel-item::after {content: \"\";width: 100%;border-bottom: 1px solid gray;flex-grow: 1;}#sk-container-id-1 div.sk-label:hover label.sk-toggleable__label {background-color: #d4ebff;}#sk-container-id-1 div.sk-serial::before {content: \"\";position: absolute;border-left: 1px solid gray;box-sizing: border-box;top: 0;bottom: 0;left: 50%;z-index: 0;}#sk-container-id-1 div.sk-serial {display: flex;flex-direction: column;align-items: center;background-color: white;padding-right: 0.2em;padding-left: 0.2em;position: relative;}#sk-container-id-1 div.sk-item {position: relative;z-index: 1;}#sk-container-id-1 div.sk-parallel {display: flex;align-items: stretch;justify-content: center;background-color: white;position: relative;}#sk-container-id-1 div.sk-item::before, #sk-container-id-1 div.sk-parallel-item::before {content: \"\";position: absolute;border-left: 1px solid gray;box-sizing: border-box;top: 0;bottom: 0;left: 50%;z-index: -1;}#sk-container-id-1 div.sk-parallel-item {display: flex;flex-direction: column;z-index: 1;position: relative;background-color: white;}#sk-container-id-1 div.sk-parallel-item:first-child::after {align-self: flex-end;width: 50%;}#sk-container-id-1 div.sk-parallel-item:last-child::after {align-self: flex-start;width: 50%;}#sk-container-id-1 div.sk-parallel-item:only-child::after {width: 0;}#sk-container-id-1 div.sk-dashed-wrapped {border: 1px dashed gray;margin: 0 0.4em 0.5em 0.4em;box-sizing: border-box;padding-bottom: 0.4em;background-color: white;}#sk-container-id-1 div.sk-label label {font-family: monospace;font-weight: bold;display: inline-block;line-height: 1.2em;}#sk-container-id-1 div.sk-label-container {text-align: center;}#sk-container-id-1 div.sk-container {/* jupyter's `normalize.less` sets `[hidden] { display: none; }` but bootstrap.min.css set `[hidden] { display: none !important; }` so we also need the `!important` here to be able to override the default hidden behavior on the sphinx rendered scikit-learn.org. See: https://github.com/scikit-learn/scikit-learn/issues/21755 */display: inline-block !important;position: relative;}#sk-container-id-1 div.sk-text-repr-fallback {display: none;}</style><div id=\"sk-container-id-1\" class=\"sk-top-container\"><div class=\"sk-text-repr-fallback\"><pre>Pipeline(steps=[(&#x27;kernelpca&#x27;, KernelPCA(n_components=2)),\n",
       "                (&#x27;kmeans&#x27;, KMeans(n_clusters=3))])</pre><b>In a Jupyter environment, please rerun this cell to show the HTML representation or trust the notebook. <br />On GitHub, the HTML representation is unable to render, please try loading this page with nbviewer.org.</b></div><div class=\"sk-container\" hidden><div class=\"sk-item sk-dashed-wrapped\"><div class=\"sk-label-container\"><div class=\"sk-label sk-toggleable\"><input class=\"sk-toggleable__control sk-hidden--visually\" id=\"sk-estimator-id-1\" type=\"checkbox\" ><label for=\"sk-estimator-id-1\" class=\"sk-toggleable__label sk-toggleable__label-arrow\">Pipeline</label><div class=\"sk-toggleable__content\"><pre>Pipeline(steps=[(&#x27;kernelpca&#x27;, KernelPCA(n_components=2)),\n",
       "                (&#x27;kmeans&#x27;, KMeans(n_clusters=3))])</pre></div></div></div><div class=\"sk-serial\"><div class=\"sk-item\"><div class=\"sk-estimator sk-toggleable\"><input class=\"sk-toggleable__control sk-hidden--visually\" id=\"sk-estimator-id-2\" type=\"checkbox\" ><label for=\"sk-estimator-id-2\" class=\"sk-toggleable__label sk-toggleable__label-arrow\">KernelPCA</label><div class=\"sk-toggleable__content\"><pre>KernelPCA(n_components=2)</pre></div></div></div><div class=\"sk-item\"><div class=\"sk-estimator sk-toggleable\"><input class=\"sk-toggleable__control sk-hidden--visually\" id=\"sk-estimator-id-3\" type=\"checkbox\" ><label for=\"sk-estimator-id-3\" class=\"sk-toggleable__label sk-toggleable__label-arrow\">KMeans</label><div class=\"sk-toggleable__content\"><pre>KMeans(n_clusters=3)</pre></div></div></div></div></div></div></div>"
      ],
      "text/plain": [
       "Pipeline(steps=[('kernelpca', KernelPCA(n_components=2)),\n",
       "                ('kmeans', KMeans(n_clusters=3))])"
      ]
     },
     "execution_count": 35,
     "metadata": {},
     "output_type": "execute_result"
    }
   ],
   "source": [
    "model = make_pipeline(KernelPCA(n_components=2), KMeans(n_clusters=3))\n",
    "model"
   ]
  },
  {
   "cell_type": "code",
   "execution_count": 37,
   "metadata": {},
   "outputs": [
    {
     "data": {
      "text/html": [
       "<style>#sk-container-id-3 {color: black;background-color: white;}#sk-container-id-3 pre{padding: 0;}#sk-container-id-3 div.sk-toggleable {background-color: white;}#sk-container-id-3 label.sk-toggleable__label {cursor: pointer;display: block;width: 100%;margin-bottom: 0;padding: 0.3em;box-sizing: border-box;text-align: center;}#sk-container-id-3 label.sk-toggleable__label-arrow:before {content: \"▸\";float: left;margin-right: 0.25em;color: #696969;}#sk-container-id-3 label.sk-toggleable__label-arrow:hover:before {color: black;}#sk-container-id-3 div.sk-estimator:hover label.sk-toggleable__label-arrow:before {color: black;}#sk-container-id-3 div.sk-toggleable__content {max-height: 0;max-width: 0;overflow: hidden;text-align: left;background-color: #f0f8ff;}#sk-container-id-3 div.sk-toggleable__content pre {margin: 0.2em;color: black;border-radius: 0.25em;background-color: #f0f8ff;}#sk-container-id-3 input.sk-toggleable__control:checked~div.sk-toggleable__content {max-height: 200px;max-width: 100%;overflow: auto;}#sk-container-id-3 input.sk-toggleable__control:checked~label.sk-toggleable__label-arrow:before {content: \"▾\";}#sk-container-id-3 div.sk-estimator input.sk-toggleable__control:checked~label.sk-toggleable__label {background-color: #d4ebff;}#sk-container-id-3 div.sk-label input.sk-toggleable__control:checked~label.sk-toggleable__label {background-color: #d4ebff;}#sk-container-id-3 input.sk-hidden--visually {border: 0;clip: rect(1px 1px 1px 1px);clip: rect(1px, 1px, 1px, 1px);height: 1px;margin: -1px;overflow: hidden;padding: 0;position: absolute;width: 1px;}#sk-container-id-3 div.sk-estimator {font-family: monospace;background-color: #f0f8ff;border: 1px dotted black;border-radius: 0.25em;box-sizing: border-box;margin-bottom: 0.5em;}#sk-container-id-3 div.sk-estimator:hover {background-color: #d4ebff;}#sk-container-id-3 div.sk-parallel-item::after {content: \"\";width: 100%;border-bottom: 1px solid gray;flex-grow: 1;}#sk-container-id-3 div.sk-label:hover label.sk-toggleable__label {background-color: #d4ebff;}#sk-container-id-3 div.sk-serial::before {content: \"\";position: absolute;border-left: 1px solid gray;box-sizing: border-box;top: 0;bottom: 0;left: 50%;z-index: 0;}#sk-container-id-3 div.sk-serial {display: flex;flex-direction: column;align-items: center;background-color: white;padding-right: 0.2em;padding-left: 0.2em;position: relative;}#sk-container-id-3 div.sk-item {position: relative;z-index: 1;}#sk-container-id-3 div.sk-parallel {display: flex;align-items: stretch;justify-content: center;background-color: white;position: relative;}#sk-container-id-3 div.sk-item::before, #sk-container-id-3 div.sk-parallel-item::before {content: \"\";position: absolute;border-left: 1px solid gray;box-sizing: border-box;top: 0;bottom: 0;left: 50%;z-index: -1;}#sk-container-id-3 div.sk-parallel-item {display: flex;flex-direction: column;z-index: 1;position: relative;background-color: white;}#sk-container-id-3 div.sk-parallel-item:first-child::after {align-self: flex-end;width: 50%;}#sk-container-id-3 div.sk-parallel-item:last-child::after {align-self: flex-start;width: 50%;}#sk-container-id-3 div.sk-parallel-item:only-child::after {width: 0;}#sk-container-id-3 div.sk-dashed-wrapped {border: 1px dashed gray;margin: 0 0.4em 0.5em 0.4em;box-sizing: border-box;padding-bottom: 0.4em;background-color: white;}#sk-container-id-3 div.sk-label label {font-family: monospace;font-weight: bold;display: inline-block;line-height: 1.2em;}#sk-container-id-3 div.sk-label-container {text-align: center;}#sk-container-id-3 div.sk-container {/* jupyter's `normalize.less` sets `[hidden] { display: none; }` but bootstrap.min.css set `[hidden] { display: none !important; }` so we also need the `!important` here to be able to override the default hidden behavior on the sphinx rendered scikit-learn.org. See: https://github.com/scikit-learn/scikit-learn/issues/21755 */display: inline-block !important;position: relative;}#sk-container-id-3 div.sk-text-repr-fallback {display: none;}</style><div id=\"sk-container-id-3\" class=\"sk-top-container\"><div class=\"sk-text-repr-fallback\"><pre>Pipeline(steps=[(&#x27;kernelpca&#x27;, KernelPCA(n_components=2)),\n",
       "                (&#x27;kmeans&#x27;, KMeans(n_clusters=3))])</pre><b>In a Jupyter environment, please rerun this cell to show the HTML representation or trust the notebook. <br />On GitHub, the HTML representation is unable to render, please try loading this page with nbviewer.org.</b></div><div class=\"sk-container\" hidden><div class=\"sk-item sk-dashed-wrapped\"><div class=\"sk-label-container\"><div class=\"sk-label sk-toggleable\"><input class=\"sk-toggleable__control sk-hidden--visually\" id=\"sk-estimator-id-7\" type=\"checkbox\" ><label for=\"sk-estimator-id-7\" class=\"sk-toggleable__label sk-toggleable__label-arrow\">Pipeline</label><div class=\"sk-toggleable__content\"><pre>Pipeline(steps=[(&#x27;kernelpca&#x27;, KernelPCA(n_components=2)),\n",
       "                (&#x27;kmeans&#x27;, KMeans(n_clusters=3))])</pre></div></div></div><div class=\"sk-serial\"><div class=\"sk-item\"><div class=\"sk-estimator sk-toggleable\"><input class=\"sk-toggleable__control sk-hidden--visually\" id=\"sk-estimator-id-8\" type=\"checkbox\" ><label for=\"sk-estimator-id-8\" class=\"sk-toggleable__label sk-toggleable__label-arrow\">KernelPCA</label><div class=\"sk-toggleable__content\"><pre>KernelPCA(n_components=2)</pre></div></div></div><div class=\"sk-item\"><div class=\"sk-estimator sk-toggleable\"><input class=\"sk-toggleable__control sk-hidden--visually\" id=\"sk-estimator-id-9\" type=\"checkbox\" ><label for=\"sk-estimator-id-9\" class=\"sk-toggleable__label sk-toggleable__label-arrow\">KMeans</label><div class=\"sk-toggleable__content\"><pre>KMeans(n_clusters=3)</pre></div></div></div></div></div></div></div>"
      ],
      "text/plain": [
       "Pipeline(steps=[('kernelpca', KernelPCA(n_components=2)),\n",
       "                ('kmeans', KMeans(n_clusters=3))])"
      ]
     },
     "execution_count": 37,
     "metadata": {},
     "output_type": "execute_result"
    }
   ],
   "source": [
    "model.fit(X)"
   ]
  },
  {
   "cell_type": "code",
   "execution_count": 38,
   "metadata": {},
   "outputs": [
    {
     "data": {
      "text/plain": [
       "array([1, 1, 1, 1, 1, 1, 1, 1, 1, 1, 1, 1, 1, 1, 1, 1, 1, 1, 1, 1, 1, 1,\n",
       "       1, 1, 1, 1, 1, 1, 1, 1, 1, 1, 1, 1, 1, 1, 1, 1, 1, 1, 1, 1, 1, 1,\n",
       "       1, 1, 1, 1, 1, 1, 0, 2, 0, 2, 2, 2, 2, 2, 2, 2, 2, 2, 2, 2, 2, 2,\n",
       "       2, 2, 2, 2, 2, 2, 2, 2, 2, 2, 2, 0, 2, 2, 2, 2, 2, 2, 2, 2, 2, 2,\n",
       "       2, 2, 2, 2, 2, 2, 2, 2, 2, 2, 2, 2, 0, 2, 0, 0, 0, 0, 2, 0, 0, 0,\n",
       "       0, 0, 0, 2, 2, 0, 0, 0, 0, 2, 0, 2, 0, 2, 0, 0, 2, 2, 0, 0, 0, 0,\n",
       "       0, 2, 0, 0, 0, 0, 2, 0, 0, 0, 2, 0, 0, 0, 2, 0, 0, 2])"
      ]
     },
     "execution_count": 38,
     "metadata": {},
     "output_type": "execute_result"
    }
   ],
   "source": [
    "model.predict(X)"
   ]
  },
  {
   "cell_type": "code",
   "execution_count": null,
   "metadata": {},
   "outputs": [],
   "source": []
  }
 ],
 "metadata": {
  "kernelspec": {
   "display_name": "Python 3.10.5 ('ml')",
   "language": "python",
   "name": "python3"
  },
  "language_info": {
   "codemirror_mode": {
    "name": "ipython",
    "version": 3
   },
   "file_extension": ".py",
   "mimetype": "text/x-python",
   "name": "python",
   "nbconvert_exporter": "python",
   "pygments_lexer": "ipython3",
   "version": "3.10.5"
  },
  "orig_nbformat": 4,
  "vscode": {
   "interpreter": {
    "hash": "3f08385685eb144e4cad5946cbcb253e13c5477a605c7481497a0c898206b987"
   }
  }
 },
 "nbformat": 4,
 "nbformat_minor": 2
}
